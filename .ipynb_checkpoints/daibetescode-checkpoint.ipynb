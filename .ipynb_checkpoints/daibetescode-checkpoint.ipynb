{
 "cells": [
  {
   "cell_type": "code",
   "execution_count": 1,
   "metadata": {},
   "outputs": [
    {
     "name": "stdout",
     "output_type": "stream",
     "text": [
      "        pregnant  glucose             bp           skin  insulin   bmi  \\\n",
      "0    Pregnancies  Glucose  BloodPressure  SkinThickness  Insulin   BMI   \n",
      "1              6      148             72             35        0  33.6   \n",
      "2              1       85             66             29        0  26.6   \n",
      "3              8      183             64              0        0  23.3   \n",
      "4              1       89             66             23       94  28.1   \n",
      "5              0      137             40             35      168  43.1   \n",
      "6              5      116             74              0        0  25.6   \n",
      "7              3       78             50             32       88    31   \n",
      "8             10      115              0              0        0  35.3   \n",
      "9              2      197             70             45      543  30.5   \n",
      "10             8      125             96              0        0     0   \n",
      "11             4      110             92              0        0  37.6   \n",
      "12            10      168             74              0        0    38   \n",
      "13            10      139             80              0        0  27.1   \n",
      "14             1      189             60             23      846  30.1   \n",
      "15             5      166             72             19      175  25.8   \n",
      "16             7      100              0              0        0    30   \n",
      "17             0      118             84             47      230  45.8   \n",
      "18             7      107             74              0        0  29.6   \n",
      "19             1      103             30             38       83  43.3   \n",
      "20             1      115             70             30       96  34.6   \n",
      "21             3      126             88             41      235  39.3   \n",
      "22             8       99             84              0        0  35.4   \n",
      "23             7      196             90              0        0  39.8   \n",
      "24             9      119             80             35        0    29   \n",
      "25            11      143             94             33      146  36.6   \n",
      "26            10      125             70             26      115  31.1   \n",
      "27             7      147             76              0        0  39.4   \n",
      "28             1       97             66             15      140  23.2   \n",
      "29            13      145             82             19      110  22.2   \n",
      "..           ...      ...            ...            ...      ...   ...   \n",
      "739            2       99             60             17      160  36.6   \n",
      "740            1      102             74              0        0  39.5   \n",
      "741           11      120             80             37      150  42.3   \n",
      "742            3      102             44             20       94  30.8   \n",
      "743            1      109             58             18      116  28.5   \n",
      "744            9      140             94              0        0  32.7   \n",
      "745           13      153             88             37      140  40.6   \n",
      "746           12      100             84             33      105    30   \n",
      "747            1      147             94             41        0  49.3   \n",
      "748            1       81             74             41       57  46.3   \n",
      "749            3      187             70             22      200  36.4   \n",
      "750            6      162             62              0        0  24.3   \n",
      "751            4      136             70              0        0  31.2   \n",
      "752            1      121             78             39       74    39   \n",
      "753            3      108             62             24        0    26   \n",
      "754            0      181             88             44      510  43.3   \n",
      "755            8      154             78             32        0  32.4   \n",
      "756            1      128             88             39      110  36.5   \n",
      "757            7      137             90             41        0    32   \n",
      "758            0      123             72              0        0  36.3   \n",
      "759            1      106             76              0        0  37.5   \n",
      "760            6      190             92              0        0  35.5   \n",
      "761            2       88             58             26       16  28.4   \n",
      "762            9      170             74             31        0    44   \n",
      "763            9       89             62              0        0  22.5   \n",
      "764           10      101             76             48      180  32.9   \n",
      "765            2      122             70             27        0  36.8   \n",
      "766            5      121             72             23      112  26.2   \n",
      "767            1      126             60              0        0  30.1   \n",
      "768            1       93             70             31        0  30.4   \n",
      "\n",
      "                     pedigree  age    label  \n",
      "0    DiabetesPedigreeFunction  Age  Outcome  \n",
      "1                       0.627   50        1  \n",
      "2                       0.351   31        0  \n",
      "3                       0.672   32        1  \n",
      "4                       0.167   21        0  \n",
      "5                       2.288   33        1  \n",
      "6                       0.201   30        0  \n",
      "7                       0.248   26        1  \n",
      "8                       0.134   29        0  \n",
      "9                       0.158   53        1  \n",
      "10                      0.232   54        1  \n",
      "11                      0.191   30        0  \n",
      "12                      0.537   34        1  \n",
      "13                      1.441   57        0  \n",
      "14                      0.398   59        1  \n",
      "15                      0.587   51        1  \n",
      "16                      0.484   32        1  \n",
      "17                      0.551   31        1  \n",
      "18                      0.254   31        1  \n",
      "19                      0.183   33        0  \n",
      "20                      0.529   32        1  \n",
      "21                      0.704   27        0  \n",
      "22                      0.388   50        0  \n",
      "23                      0.451   41        1  \n",
      "24                      0.263   29        1  \n",
      "25                      0.254   51        1  \n",
      "26                      0.205   41        1  \n",
      "27                      0.257   43        1  \n",
      "28                      0.487   22        0  \n",
      "29                      0.245   57        0  \n",
      "..                        ...  ...      ...  \n",
      "739                     0.453   21        0  \n",
      "740                     0.293   42        1  \n",
      "741                     0.785   48        1  \n",
      "742                       0.4   26        0  \n",
      "743                     0.219   22        0  \n",
      "744                     0.734   45        1  \n",
      "745                     1.174   39        0  \n",
      "746                     0.488   46        0  \n",
      "747                     0.358   27        1  \n",
      "748                     1.096   32        0  \n",
      "749                     0.408   36        1  \n",
      "750                     0.178   50        1  \n",
      "751                     1.182   22        1  \n",
      "752                     0.261   28        0  \n",
      "753                     0.223   25        0  \n",
      "754                     0.222   26        1  \n",
      "755                     0.443   45        1  \n",
      "756                     1.057   37        1  \n",
      "757                     0.391   39        0  \n",
      "758                     0.258   52        1  \n",
      "759                     0.197   26        0  \n",
      "760                     0.278   66        1  \n",
      "761                     0.766   22        0  \n",
      "762                     0.403   43        1  \n",
      "763                     0.142   33        0  \n",
      "764                     0.171   63        0  \n",
      "765                      0.34   27        0  \n",
      "766                     0.245   30        0  \n",
      "767                     0.349   47        1  \n",
      "768                     0.315   23        0  \n",
      "\n",
      "[769 rows x 9 columns]\n"
     ]
    }
   ],
   "source": [
    "import pandas as pnd\n",
    "\n",
    "col_names = ['pregnant','glucose','bp','skin','insulin','bmi','pedigree','age','label']\n",
    "pima = pnd.read_csv('diabetes.csv',header=None,names=col_names)\n",
    "print(pima)"
   ]
  },
  {
   "cell_type": "code",
   "execution_count": 2,
   "metadata": {},
   "outputs": [
    {
     "data": {
      "text/html": [
       "<div>\n",
       "<style scoped>\n",
       "    .dataframe tbody tr th:only-of-type {\n",
       "        vertical-align: middle;\n",
       "    }\n",
       "\n",
       "    .dataframe tbody tr th {\n",
       "        vertical-align: top;\n",
       "    }\n",
       "\n",
       "    .dataframe thead th {\n",
       "        text-align: right;\n",
       "    }\n",
       "</style>\n",
       "<table border=\"1\" class=\"dataframe\">\n",
       "  <thead>\n",
       "    <tr style=\"text-align: right;\">\n",
       "      <th></th>\n",
       "      <th>pregnant</th>\n",
       "      <th>glucose</th>\n",
       "      <th>bp</th>\n",
       "      <th>skin</th>\n",
       "      <th>insulin</th>\n",
       "      <th>bmi</th>\n",
       "      <th>pedigree</th>\n",
       "      <th>age</th>\n",
       "      <th>label</th>\n",
       "    </tr>\n",
       "  </thead>\n",
       "  <tbody>\n",
       "    <tr>\n",
       "      <th>0</th>\n",
       "      <td>Pregnancies</td>\n",
       "      <td>Glucose</td>\n",
       "      <td>BloodPressure</td>\n",
       "      <td>SkinThickness</td>\n",
       "      <td>Insulin</td>\n",
       "      <td>BMI</td>\n",
       "      <td>DiabetesPedigreeFunction</td>\n",
       "      <td>Age</td>\n",
       "      <td>Outcome</td>\n",
       "    </tr>\n",
       "    <tr>\n",
       "      <th>1</th>\n",
       "      <td>6</td>\n",
       "      <td>148</td>\n",
       "      <td>72</td>\n",
       "      <td>35</td>\n",
       "      <td>0</td>\n",
       "      <td>33.6</td>\n",
       "      <td>0.627</td>\n",
       "      <td>50</td>\n",
       "      <td>1</td>\n",
       "    </tr>\n",
       "    <tr>\n",
       "      <th>2</th>\n",
       "      <td>1</td>\n",
       "      <td>85</td>\n",
       "      <td>66</td>\n",
       "      <td>29</td>\n",
       "      <td>0</td>\n",
       "      <td>26.6</td>\n",
       "      <td>0.351</td>\n",
       "      <td>31</td>\n",
       "      <td>0</td>\n",
       "    </tr>\n",
       "    <tr>\n",
       "      <th>3</th>\n",
       "      <td>8</td>\n",
       "      <td>183</td>\n",
       "      <td>64</td>\n",
       "      <td>0</td>\n",
       "      <td>0</td>\n",
       "      <td>23.3</td>\n",
       "      <td>0.672</td>\n",
       "      <td>32</td>\n",
       "      <td>1</td>\n",
       "    </tr>\n",
       "    <tr>\n",
       "      <th>4</th>\n",
       "      <td>1</td>\n",
       "      <td>89</td>\n",
       "      <td>66</td>\n",
       "      <td>23</td>\n",
       "      <td>94</td>\n",
       "      <td>28.1</td>\n",
       "      <td>0.167</td>\n",
       "      <td>21</td>\n",
       "      <td>0</td>\n",
       "    </tr>\n",
       "  </tbody>\n",
       "</table>\n",
       "</div>"
      ],
      "text/plain": [
       "      pregnant  glucose             bp           skin  insulin   bmi  \\\n",
       "0  Pregnancies  Glucose  BloodPressure  SkinThickness  Insulin   BMI   \n",
       "1            6      148             72             35        0  33.6   \n",
       "2            1       85             66             29        0  26.6   \n",
       "3            8      183             64              0        0  23.3   \n",
       "4            1       89             66             23       94  28.1   \n",
       "\n",
       "                   pedigree  age    label  \n",
       "0  DiabetesPedigreeFunction  Age  Outcome  \n",
       "1                     0.627   50        1  \n",
       "2                     0.351   31        0  \n",
       "3                     0.672   32        1  \n",
       "4                     0.167   21        0  "
      ]
     },
     "execution_count": 2,
     "metadata": {},
     "output_type": "execute_result"
    }
   ],
   "source": [
    "pima.head()"
   ]
  },
  {
   "cell_type": "code",
   "execution_count": 3,
   "metadata": {},
   "outputs": [
    {
     "data": {
      "text/plain": [
       "(769, 9)"
      ]
     },
     "execution_count": 3,
     "metadata": {},
     "output_type": "execute_result"
    }
   ],
   "source": [
    "pima.shape"
   ]
  },
  {
   "cell_type": "code",
   "execution_count": 4,
   "metadata": {},
   "outputs": [
    {
     "name": "stdout",
     "output_type": "stream",
     "text": [
      "768\n",
      "768\n"
     ]
    }
   ],
   "source": [
    "feature_cols = ['pregnant','insulin','bmi','age']\n",
    "x = pima[feature_cols]\n",
    "y = pima.label\n",
    "x.shape\n",
    "t_x = []\n",
    "t_y = []\n",
    "import numpy as np\n",
    "x = np.array(x)\n",
    "y = np.array(y)\n",
    "c = 0\n",
    "for inf in x:\n",
    "    if (c>0):\n",
    "        tm = [float(j) for j in inf]\n",
    "        t_x.append(tm)\n",
    "        t_y.append(y[c])\n",
    "        c = c+1\n",
    "    else:\n",
    "        c = c+1\n",
    "print(len(t_x))\n",
    "print(len(t_y))"
   ]
  },
  {
   "cell_type": "code",
   "execution_count": 5,
   "metadata": {},
   "outputs": [],
   "source": [
    "x = t_x\n",
    "y = t_y"
   ]
  },
  {
   "cell_type": "code",
   "execution_count": 6,
   "metadata": {},
   "outputs": [
    {
     "name": "stdout",
     "output_type": "stream",
     "text": [
      "0.6927083333333334\n"
     ]
    }
   ],
   "source": [
    "from sklearn.model_selection import train_test_split\n",
    "from sklearn.linear_model import LogisticRegression\n",
    "from sklearn import metrics\n",
    "\n",
    "x = np.array(x)\n",
    "x_train,x_test,y_train,y_test = train_test_split(x,y,random_state=0)\n",
    "lg = LogisticRegression()\n",
    "lg.fit(x_train,y_train)\n",
    "y_pred = lg.predict(x_test)\n",
    "print(metrics.accuracy_score(y_test,y_pred))\n"
   ]
  },
  {
   "cell_type": "code",
   "execution_count": 7,
   "metadata": {},
   "outputs": [
    {
     "name": "stdout",
     "output_type": "stream",
     "text": [
      "192\n",
      "0.0    130\n",
      "1.0     62\n",
      "dtype: int64\n",
      "192\n"
     ]
    }
   ],
   "source": [
    "tm = [float(j) for j in y_test]\n",
    "print(len(tm))\n",
    "y_test = pnd.Series(tm)\n",
    "print(y_test.value_counts())\n",
    "\n",
    "tm = [float(j) for j in y_pred]\n",
    "print(len(tm))\n",
    "y_pred = pnd.Series(tm)"
   ]
  },
  {
   "cell_type": "code",
   "execution_count": 8,
   "metadata": {},
   "outputs": [
    {
     "data": {
      "text/plain": [
       "0.3229166666666667"
      ]
     },
     "execution_count": 8,
     "metadata": {},
     "output_type": "execute_result"
    }
   ],
   "source": [
    "#calculate the perentege of one\n",
    "y_test.mean()"
   ]
  },
  {
   "cell_type": "code",
   "execution_count": 9,
   "metadata": {},
   "outputs": [
    {
     "data": {
      "text/plain": [
       "0.6770833333333333"
      ]
     },
     "execution_count": 9,
     "metadata": {},
     "output_type": "execute_result"
    }
   ],
   "source": [
    "#calculate the perentege of zero\n",
    "1-y_test.mean()"
   ]
  },
  {
   "cell_type": "code",
   "execution_count": 10,
   "metadata": {},
   "outputs": [
    {
     "name": "stdout",
     "output_type": "stream",
     "text": [
      "true: [1. 0. 0. 1. 0. 0. 1. 1. 0. 0. 1. 1. 0. 0. 0. 0. 1. 0. 0. 0. 1. 1. 0. 0.\n",
      " 0.]\n",
      "pred: [0. 0. 0. 0. 0. 0. 0. 1. 0. 1. 0. 1. 0. 0. 0. 0. 0. 0. 0. 0. 0. 0. 0. 0.\n",
      " 0.]\n"
     ]
    }
   ],
   "source": [
    "#examin the first 25 value true and predicted responce\n",
    "print('true:',y_test.values[0:25])\n",
    "print('pred:',y_pred.values[0:25])"
   ]
  },
  {
   "cell_type": "code",
   "execution_count": 11,
   "metadata": {},
   "outputs": [
    {
     "name": "stdout",
     "output_type": "stream",
     "text": [
      "0.0    130\n",
      "1.0     62\n",
      "dtype: int64\n",
      "[[118  12]\n",
      " [ 47  15]]\n"
     ]
    }
   ],
   "source": [
    "#note:first argument is true value and second argument is predicted\n",
    "print(y_test.value_counts())\n",
    "print(metrics.confusion_matrix(y_test,y_pred))"
   ]
  },
  {
   "cell_type": "code",
   "execution_count": 12,
   "metadata": {},
   "outputs": [],
   "source": [
    "confusion = metrics.confusion_matrix(y_test,y_pred)\n",
    "TP = confusion[1, 1]\n",
    "TN = confusion[0, 0]\n",
    "FP = confusion[0, 1]\n",
    "FN = confusion[1, 0]"
   ]
  },
  {
   "cell_type": "code",
   "execution_count": 13,
   "metadata": {},
   "outputs": [
    {
     "name": "stdout",
     "output_type": "stream",
     "text": [
      "0.6927083333333334\n",
      "0.6927083333333334\n"
     ]
    }
   ],
   "source": [
    "#classification accuracy\n",
    "print((TP+TN)/float(TP+TN+FP+FN))\n",
    "print(metrics.accuracy_score(y_test,y_pred))"
   ]
  },
  {
   "cell_type": "code",
   "execution_count": 14,
   "metadata": {},
   "outputs": [
    {
     "name": "stdout",
     "output_type": "stream",
     "text": [
      "0.3072916666666667\n",
      "0.30729166666666663\n"
     ]
    }
   ],
   "source": [
    "#classification error\n",
    "print((FP+FN)/float(TP+TN+FP+FN))\n",
    "print(1-metrics.accuracy_score(y_test,y_pred))"
   ]
  },
  {
   "cell_type": "code",
   "execution_count": 15,
   "metadata": {},
   "outputs": [
    {
     "name": "stdout",
     "output_type": "stream",
     "text": [
      "0.24193548387096775\n",
      "0.24193548387096775\n"
     ]
    }
   ],
   "source": [
    "#sensitivity:when the actual value is positive.how often predic correct\n",
    "print(TP/(TP+FN))\n",
    "print(metrics.recall_score(y_test,y_pred))"
   ]
  },
  {
   "cell_type": "code",
   "execution_count": 16,
   "metadata": {},
   "outputs": [
    {
     "name": "stdout",
     "output_type": "stream",
     "text": [
      "0.9076923076923077\n"
     ]
    }
   ],
   "source": [
    "#specifity:when the actual value is negative.how often predic correct\n",
    "print(TN/(TN+FP))"
   ]
  },
  {
   "cell_type": "code",
   "execution_count": 17,
   "metadata": {},
   "outputs": [
    {
     "name": "stdout",
     "output_type": "stream",
     "text": [
      "0.09230769230769231\n"
     ]
    }
   ],
   "source": [
    "#False positive rate:when the actual value is negative.how often predic incorrect\n",
    "print(FP/(TN+FP))"
   ]
  },
  {
   "cell_type": "code",
   "execution_count": 18,
   "metadata": {},
   "outputs": [
    {
     "name": "stdout",
     "output_type": "stream",
     "text": [
      "0.5555555555555556\n"
     ]
    }
   ],
   "source": [
    "#Precision:when positive predicted,how often prediction is correct\n",
    "print(TP/(TP+FP))"
   ]
  },
  {
   "cell_type": "code",
   "execution_count": 19,
   "metadata": {},
   "outputs": [
    {
     "data": {
      "text/plain": [
       "array(['0', '0', '0', '0', '0', '0', '0', '1', '0', '1'], dtype='<U1')"
      ]
     },
     "execution_count": 19,
     "metadata": {},
     "output_type": "execute_result"
    }
   ],
   "source": [
    "#print the first 10 predicted responce\n",
    "lg.predict(x_test)[0:10]"
   ]
  },
  {
   "cell_type": "code",
   "execution_count": 20,
   "metadata": {},
   "outputs": [
    {
     "data": {
      "text/plain": [
       "array([[0.63247571, 0.36752429],\n",
       "       [0.71643656, 0.28356344],\n",
       "       [0.71104114, 0.28895886],\n",
       "       [0.5858938 , 0.4141062 ],\n",
       "       [0.84103973, 0.15896027],\n",
       "       [0.82934844, 0.17065156],\n",
       "       [0.50110974, 0.49889026],\n",
       "       [0.48658459, 0.51341541],\n",
       "       [0.72321388, 0.27678612],\n",
       "       [0.32810562, 0.67189438]])"
      ]
     },
     "execution_count": 20,
     "metadata": {},
     "output_type": "execute_result"
    }
   ],
   "source": [
    "#first 10 predicted probability\n",
    "lg.predict_proba(x_test)[0:10,:]"
   ]
  },
  {
   "cell_type": "code",
   "execution_count": 21,
   "metadata": {},
   "outputs": [
    {
     "data": {
      "text/plain": [
       "array([0.36752429, 0.28356344, 0.28895886, 0.4141062 , 0.15896027,\n",
       "       0.17065156, 0.49889026, 0.51341541, 0.27678612, 0.67189438])"
      ]
     },
     "execution_count": 21,
     "metadata": {},
     "output_type": "execute_result"
    }
   ],
   "source": [
    "#first 10 predicted probability for class 1\n",
    "lg.predict_proba(x_test)[0:10,1]"
   ]
  },
  {
   "cell_type": "code",
   "execution_count": 22,
   "metadata": {},
   "outputs": [
    {
     "data": {
      "text/plain": [
       "Text(0,0.5,'Frequency')"
      ]
     },
     "execution_count": 22,
     "metadata": {},
     "output_type": "execute_result"
    },
    {
     "data": {
      "image/png": "[encoded data removed]",
      "text/plain": [
       "<matplotlib.figure.Figure at 0x21d2aa65908>"
      ]
     },
     "metadata": {},
     "output_type": "display_data"
    }
   ],
   "source": [
    "y_pred_prob = lg.predict_proba(x_test)[:,1]\n",
    "import matplotlib.pyplot as plt\n",
    "%matplotlib inline\n",
    "plt.rcParams['font.size']=14\n",
    "plt.hist(y_pred_prob,bins=8)\n",
    "plt.xlim(0,1)\n",
    "plt.title('Histogram of predited probability')\n",
    "plt.xlabel('predicted probabilty of daibetes')\n",
    "plt.ylabel('Frequency')"
   ]
  },
  {
   "cell_type": "code",
   "execution_count": 23,
   "metadata": {},
   "outputs": [],
   "source": [
    "#thershold is default 0.5\n",
    "#decrease the thershold in order to increase the sesitvity\n",
    "from sklearn.preprocessing import binarize\n",
    "y_pred_class = binarize([y_pred_prob],0.3)[0]"
   ]
  },
  {
   "cell_type": "code",
   "execution_count": 24,
   "metadata": {},
   "outputs": [
    {
     "data": {
      "text/plain": [
       "array([1., 0., 0., 1., 0., 0., 1., 1., 0., 1.])"
      ]
     },
     "execution_count": 24,
     "metadata": {},
     "output_type": "execute_result"
    }
   ],
   "source": [
    "#print first 10 value responce\n",
    "y_pred_prob[0:10]\n",
    "y_pred_class[0:10]"
   ]
  },
  {
   "cell_type": "code",
   "execution_count": 25,
   "metadata": {},
   "outputs": [
    {
     "name": "stdout",
     "output_type": "stream",
     "text": [
      "[[118  12]\n",
      " [ 47  15]]\n",
      "[[80 50]\n",
      " [16 46]]\n"
     ]
    }
   ],
   "source": [
    "print(confusion)\n",
    "print(metrics.confusion_matrix(y_test,y_pred_class))"
   ]
  },
  {
   "cell_type": "code",
   "execution_count": 26,
   "metadata": {},
   "outputs": [
    {
     "name": "stdout",
     "output_type": "stream",
     "text": [
      "0.7419354838709677\n",
      "0.6153846153846154\n"
     ]
    }
   ],
   "source": [
    "#sensitivity has increased\n",
    "#specifity has decreased\n",
    "print(46/float(46+16))\n",
    "print(80/float(80+50))"
   ]
  },
  {
   "cell_type": "code",
   "execution_count": 27,
   "metadata": {},
   "outputs": [
    {
     "data": {
      "image/png": "[encoded data removed]",
      "text/plain": [
       "<matplotlib.figure.Figure at 0x21d2b81def0>"
      ]
     },
     "metadata": {},
     "output_type": "display_data"
    }
   ],
   "source": [
    "#ROC Curve\n",
    "fpr,tpr,thersholds = metrics.roc_curve(y_test,y_pred_prob)\n",
    "plt.plot(fpr,tpr)\n",
    "plt.xlim([0.0, 1.0])\n",
    "plt.ylim([0.0, 1.0])\n",
    "plt.title('ROC curve for diabetes classifier')\n",
    "plt.xlabel('False positive rate(1-specifity)')\n",
    "plt.ylabel('True positive rate sensitivity')\n",
    "plt.grid(True)"
   ]
  },
  {
   "cell_type": "code",
   "execution_count": 28,
   "metadata": {},
   "outputs": [],
   "source": [
    "#define a function that take thershold and get sesitivity and specifity\n",
    "def evaluate_thershold(thershold):\n",
    "    print('sesitivity',tpr[thersholds > thershold][-1])\n",
    "    print('specifity',1-fpr[thersholds > thershold][-1])"
   ]
  },
  {
   "cell_type": "code",
   "execution_count": 29,
   "metadata": {},
   "outputs": [
    {
     "name": "stdout",
     "output_type": "stream",
     "text": [
      "sesitivity 0.24193548387096775\n",
      "specifity 0.9076923076923077\n"
     ]
    }
   ],
   "source": [
    "evaluate_thershold(0.5)"
   ]
  },
  {
   "cell_type": "code",
   "execution_count": 30,
   "metadata": {},
   "outputs": [
    {
     "name": "stdout",
     "output_type": "stream",
     "text": [
      "sesitivity 0.7258064516129032\n",
      "specifity 0.6153846153846154\n"
     ]
    }
   ],
   "source": [
    "evaluate_thershold(0.3)"
   ]
  },
  {
   "cell_type": "code",
   "execution_count": 31,
   "metadata": {},
   "outputs": [
    {
     "name": "stdout",
     "output_type": "stream",
     "text": [
      "0.7245657568238213\n"
     ]
    }
   ],
   "source": [
    "print(metrics.roc_auc_score(y_test,y_pred_prob))"
   ]
  },
  {
   "cell_type": "code",
   "execution_count": 69,
   "metadata": {},
   "outputs": [
    {
     "name": "stderr",
     "output_type": "stream",
     "text": [
      "C:\\Users\\HASAN TAREK\\Anaconda3\\lib\\site-packages\\sklearn\\utils\\validation.py:578: DataConversionWarning: A column-vector y was passed when a 1d array was expected. Please change the shape of y to (n_samples, ), for example using ravel().\n",
      "  y = column_or_1d(y, warn=True)\n",
      "C:\\Users\\HASAN TAREK\\Anaconda3\\lib\\site-packages\\sklearn\\utils\\validation.py:578: DataConversionWarning: A column-vector y was passed when a 1d array was expected. Please change the shape of y to (n_samples, ), for example using ravel().\n",
      "  y = column_or_1d(y, warn=True)\n",
      "C:\\Users\\HASAN TAREK\\Anaconda3\\lib\\site-packages\\sklearn\\utils\\validation.py:578: DataConversionWarning: A column-vector y was passed when a 1d array was expected. Please change the shape of y to (n_samples, ), for example using ravel().\n",
      "  y = column_or_1d(y, warn=True)\n",
      "C:\\Users\\HASAN TAREK\\Anaconda3\\lib\\site-packages\\sklearn\\utils\\validation.py:578: DataConversionWarning: A column-vector y was passed when a 1d array was expected. Please change the shape of y to (n_samples, ), for example using ravel().\n",
      "  y = column_or_1d(y, warn=True)\n",
      "C:\\Users\\HASAN TAREK\\Anaconda3\\lib\\site-packages\\sklearn\\utils\\validation.py:578: DataConversionWarning: A column-vector y was passed when a 1d array was expected. Please change the shape of y to (n_samples, ), for example using ravel().\n",
      "  y = column_or_1d(y, warn=True)\n",
      "C:\\Users\\HASAN TAREK\\Anaconda3\\lib\\site-packages\\sklearn\\utils\\validation.py:578: DataConversionWarning: A column-vector y was passed when a 1d array was expected. Please change the shape of y to (n_samples, ), for example using ravel().\n",
      "  y = column_or_1d(y, warn=True)\n",
      "C:\\Users\\HASAN TAREK\\Anaconda3\\lib\\site-packages\\sklearn\\utils\\validation.py:578: DataConversionWarning: A column-vector y was passed when a 1d array was expected. Please change the shape of y to (n_samples, ), for example using ravel().\n",
      "  y = column_or_1d(y, warn=True)\n",
      "C:\\Users\\HASAN TAREK\\Anaconda3\\lib\\site-packages\\sklearn\\utils\\validation.py:578: DataConversionWarning: A column-vector y was passed when a 1d array was expected. Please change the shape of y to (n_samples, ), for example using ravel().\n",
      "  y = column_or_1d(y, warn=True)\n",
      "C:\\Users\\HASAN TAREK\\Anaconda3\\lib\\site-packages\\sklearn\\utils\\validation.py:578: DataConversionWarning: A column-vector y was passed when a 1d array was expected. Please change the shape of y to (n_samples, ), for example using ravel().\n",
      "  y = column_or_1d(y, warn=True)\n",
      "C:\\Users\\HASAN TAREK\\Anaconda3\\lib\\site-packages\\sklearn\\utils\\validation.py:578: DataConversionWarning: A column-vector y was passed when a 1d array was expected. Please change the shape of y to (n_samples, ), for example using ravel().\n",
      "  y = column_or_1d(y, warn=True)\n"
     ]
    },
    {
     "data": {
      "text/plain": [
       "0.7378233618233618"
      ]
     },
     "execution_count": 69,
     "metadata": {},
     "output_type": "execute_result"
    }
   ],
   "source": [
    "from sklearn.model_selection import cross_val_score\n",
    "from sklearn.preprocessing import LabelBinarizer\n",
    "feature_cols = ['pregnant','insulin','bmi','age']\n",
    "#x = pima[feature_cols]\n",
    "#y = pima.label\n",
    "x = t_x\n",
    "y = t_y\n",
    "lb = LabelBinarizer()\n",
    "lb.fit(y)\n",
    "y = lb.transform(y)\n",
    "\n",
    "#print(len(y))\n",
    "cross_val_score(lg,x,y,cv=10,scoring='roc_auc').mean()\n",
    "#cross_val_score(lg,n,y,cv=10,scoring='roc_auc').mean()"
   ]
  },
  {
   "cell_type": "code",
   "execution_count": null,
   "metadata": {},
   "outputs": [],
   "source": []
  },
  {
   "cell_type": "code",
   "execution_count": null,
   "metadata": {},
   "outputs": [],
   "source": []
  }
 ],
 "metadata": {
  "kernelspec": {
   "display_name": "Python 3",
   "language": "python",
   "name": "python3"
  },
  "language_info": {
   "codemirror_mode": {
    "name": "ipython",
    "version": 3
   },
   "file_extension": ".py",
   "mimetype": "text/x-python",
   "name": "python",
   "nbconvert_exporter": "python",
   "pygments_lexer": "ipython3",
   "version": "3.6.4"
  }
 },
 "nbformat": 4,
 "nbformat_minor": 2
}
